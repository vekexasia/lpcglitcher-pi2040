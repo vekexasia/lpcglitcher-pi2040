{
 "cells": [
  {
   "cell_type": "code",
   "execution_count": 1275,
   "id": "33c9d187-e560-4286-9272-783c97887737",
   "metadata": {
    "tags": []
   },
   "outputs": [],
   "source": [
    "import serial\n",
    "import struct\n",
    "\n",
    "serialPort = serial.Serial(\n",
    "    port=\"COM5\", baudrate=9600, bytesize=8, timeout=2, stopbits=serial.STOPBITS_ONE\n",
    ")\n",
    "def set_pulse(pulse):\n",
    "    serialPort.write(b\"P\" + struct.pack(\"<I\", pulse))\n",
    "def set_delay(delay):\n",
    "    serialPort.write(b\"D\" + struct.pack(\"<I\", delay))\n",
    "def glitch():\n",
    "    serialPort.write(b\"G\")"
   ]
  },
  {
   "cell_type": "code",
   "execution_count": 1449,
   "id": "0c885207-3eac-4440-bdff-99520d369c6b",
   "metadata": {
    "tags": []
   },
   "outputs": [],
   "source": [
    "set_delay(0);\n",
    "set_pulse(0)"
   ]
  },
  {
   "cell_type": "code",
   "execution_count": 22,
   "id": "a28958d5-7a24-4662-ac70-f6a1a59c265e",
   "metadata": {},
   "outputs": [
    {
     "data": {
      "text/plain": [
       "1"
      ]
     },
     "execution_count": 22,
     "metadata": {},
     "output_type": "execute_result"
    }
   ],
   "source": [
    "serialPort.write('l'.encode())"
   ]
  },
  {
   "cell_type": "code",
   "execution_count": 1795,
   "id": "cca00071-f245-4b4c-bcdf-33975539a97b",
   "metadata": {
    "tags": []
   },
   "outputs": [],
   "source": [
    "glitch()"
   ]
  },
  {
   "cell_type": "code",
   "execution_count": null,
   "id": "d8f401cc-f237-4a49-bc79-51288ec8334c",
   "metadata": {},
   "outputs": [],
   "source": []
  }
 ],
 "metadata": {
  "kernelspec": {
   "display_name": "Python 3 (ipykernel)",
   "language": "python",
   "name": "python3"
  },
  "language_info": {
   "codemirror_mode": {
    "name": "ipython",
    "version": 3
   },
   "file_extension": ".py",
   "mimetype": "text/x-python",
   "name": "python",
   "nbconvert_exporter": "python",
   "pygments_lexer": "ipython3",
   "version": "3.9.12"
  }
 },
 "nbformat": 4,
 "nbformat_minor": 5
}
